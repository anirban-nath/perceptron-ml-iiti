{
 "cells": [
  {
   "cell_type": "code",
   "execution_count": 18,
   "id": "96b4c718",
   "metadata": {},
   "outputs": [],
   "source": [
    "import numpy as np\n",
    "import pandas as pd\n",
    "\n",
    "def fit(X,y):\n",
    "    learning_rate = 0.005\n",
    "    n_iter = 5\n",
    "    b = 0.0\n",
    "    w = np.zeros(X.shape[1])\n",
    "    for _ in range(n_iter):\n",
    "        errors = 0\n",
    "        \n",
    "        j=0\n",
    "        for x_i, y_i in zip(X, y):\n",
    "            prediction = predict(x_i,w,b)\n",
    "            update = learning_rate * (y_i - predict(x_i,w,b))\n",
    "            b += update\n",
    "            w += update * x_i\n",
    "            errors += int(update != 0.0)\n",
    "\n",
    "    return(b,w)\n",
    "\n",
    "def predict(x,w,b) -> float:\n",
    "    z = np.dot(x, w) + b\n",
    "    sigmoid = 1.0 / (1.0 + np.exp(-z))\n",
    "    return np.where(sigmoid >= 0.5, 1, 0)"
   ]
  },
  {
   "cell_type": "code",
   "execution_count": 19,
   "id": "84f1fbc9",
   "metadata": {},
   "outputs": [
    {
     "name": "stdout",
     "output_type": "stream",
     "text": [
      "[1 1 1 0]\n"
     ]
    }
   ],
   "source": [
    "#Implementing a Perceptron to learn NAND\n",
    "\n",
    "X = [(0,0),(0,1),(1,0),(1,1)]\n",
    "y = [1,1,1,0]\n",
    "\n",
    "X_np = np.array(X)\n",
    "y_np = np.array(y)\n",
    "\n",
    "b,w = fit(X_np,y_np)\n",
    "\n",
    "predictions = predict(X_np,w,b)\n",
    "print(predictions)"
   ]
  },
  {
   "cell_type": "code",
   "execution_count": null,
   "id": "0a96871a",
   "metadata": {},
   "outputs": [],
   "source": []
  }
 ],
 "metadata": {
  "kernelspec": {
   "display_name": "Python 3 (ipykernel)",
   "language": "python",
   "name": "python3"
  },
  "language_info": {
   "codemirror_mode": {
    "name": "ipython",
    "version": 3
   },
   "file_extension": ".py",
   "mimetype": "text/x-python",
   "name": "python",
   "nbconvert_exporter": "python",
   "pygments_lexer": "ipython3",
   "version": "3.8.10"
  }
 },
 "nbformat": 4,
 "nbformat_minor": 5
}
