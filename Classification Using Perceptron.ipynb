{
 "cells": [
  {
   "cell_type": "code",
   "execution_count": 268,
   "id": "fb00fd9d",
   "metadata": {},
   "outputs": [],
   "source": [
    "import numpy as np\n",
    "import pandas as pd\n",
    "import csv\n",
    "import matplotlib.pyplot as plt\n",
    "\n",
    "def fit(X,y):\n",
    "    learning_rate = 0.005\n",
    "    n_iter = 100\n",
    "    b = 0.0\n",
    "    w = np.zeros(X.shape[1])\n",
    "    for _ in range(n_iter):\n",
    "        j=0\n",
    "        for x_i, y_i in zip(X, y):\n",
    "            prediction = predict(x_i,w,b)\n",
    "            update = learning_rate * (y_i - predict(x_i,w,b))\n",
    "            b += update\n",
    "            w += update * x_i\n",
    "\n",
    "    return(b,w)\n",
    "\n",
    "def predict(x,w,b) -> float:\n",
    "    z = np.dot(x, w) + b\n",
    "    sigmoid = 1.0 / (1.0 + np.exp(-z))\n",
    "    return np.where(sigmoid >= 0.5, 1, 0)\n"
   ]
  },
  {
   "cell_type": "code",
   "execution_count": 269,
   "id": "24283a5c",
   "metadata": {},
   "outputs": [
    {
     "name": "stdout",
     "output_type": "stream",
     "text": [
      "[[37  0]\n",
      " [13 50]]\n"
     ]
    }
   ],
   "source": [
    "dataset = pd.read_csv(\"Iris.csv\")\n",
    "\n",
    "X = dataset.iloc[:,0:3].values \n",
    "y = dataset.iloc[:,5].values\n",
    "\n",
    "for i in range(y.shape[0]):\n",
    "    if (y.any() == \"Iris-setosa\"):\n",
    "        y[i] = 0\n",
    "    else:\n",
    "        y[i] = 1\n",
    "\n",
    "b,w = fit(X,y)\n",
    "\n",
    "predictions = predict(X,w,b)\n",
    "predictions = predictions.tolist()\n",
    "y = y.tolist()\n",
    "\n",
    "from sklearn.metrics import confusion_matrix as cmm\n",
    "cm = cmm(predictions, y)\n",
    "print (cm)"
   ]
  },
  {
   "cell_type": "code",
   "execution_count": 267,
   "id": "19984259",
   "metadata": {},
   "outputs": [
    {
     "name": "stdout",
     "output_type": "stream",
     "text": [
      "F-Score:  0.8849557522123894\n"
     ]
    }
   ],
   "source": [
    "from sklearn.metrics import f1_score as f\n",
    "f_score = f(predictions, y)\n",
    "print(\"F-Score: \", f_score)"
   ]
  },
  {
   "cell_type": "code",
   "execution_count": 266,
   "id": "800908fe",
   "metadata": {},
   "outputs": [
    {
     "name": "stdout",
     "output_type": "stream",
     "text": [
      "Precision:  0.87\n",
      "Recall 1.0\n"
     ]
    }
   ],
   "source": [
    "Precision = (cm[0][0]+cm[1][1])/100\n",
    "Recall = cm[0][0]/(cm[0][0]+cm[0][1])\n",
    "print(\"Precision: \", Precision)\n",
    "print(\"Recall: \", Recall)"
   ]
  }
 ],
 "metadata": {
  "kernelspec": {
   "display_name": "Python 3 (ipykernel)",
   "language": "python",
   "name": "python3"
  },
  "language_info": {
   "codemirror_mode": {
    "name": "ipython",
    "version": 3
   },
   "file_extension": ".py",
   "mimetype": "text/x-python",
   "name": "python",
   "nbconvert_exporter": "python",
   "pygments_lexer": "ipython3",
   "version": "3.8.10"
  }
 },
 "nbformat": 4,
 "nbformat_minor": 5
}
