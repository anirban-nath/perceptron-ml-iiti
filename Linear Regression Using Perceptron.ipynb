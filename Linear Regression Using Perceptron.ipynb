{
 "cells": [
  {
   "cell_type": "code",
   "execution_count": 8,
   "id": "18772da4",
   "metadata": {},
   "outputs": [],
   "source": [
    "import numpy as np\n",
    "import pandas as pd\n",
    "import csv\n",
    "import matplotlib.pyplot as plt\n",
    "\n",
    "def fit(X,y):\n",
    "    learning_rate = 0.0005\n",
    "    n_iter = 25\n",
    "    b = 0.0\n",
    "    w = np.zeros(X.shape[0])\n",
    "\n",
    "    for _ in range(n_iter):\n",
    "        errors = 0\n",
    "        \n",
    "        j=0\n",
    "        for x in X:\n",
    "            update = learning_rate * (y[j] - predict(x,w,b))\n",
    "            b += update\n",
    "            w += update * x\n",
    "            errors += update*2\n",
    "\n",
    "    return(b[0],w[0])\n",
    "\n",
    "#No activation function needed for linear regression\n",
    "def predict(x,w,b) -> float:\n",
    "    return np.dot(x, w) + b\n",
    "\n",
    "# root mean square error\n",
    "def rmse(predictions, y):\n",
    "     print(\"Reported RMSE : \", np.sqrt(((predictions - y) ** 2).mean()))\n",
    "        \n",
    "def plot_regression_line(x, y, w, b):\n",
    "    # plotting the actual points as scatter plot\n",
    "    plt.scatter(x, y, color = \"m\",\n",
    "               marker = \"o\", s = 30)\n",
    "  \n",
    "    # predicted response vector\n",
    "    y_pred = b + w*x\n",
    "  \n",
    "    # plotting the regression line\n",
    "    plt.plot(x, y_pred, color = \"g\")\n",
    "  \n",
    "    # putting labels\n",
    "    plt.xlabel('x')\n",
    "    plt.ylabel('y')\n",
    "  \n",
    "    # function to show plot\n",
    "    plt.show()"
   ]
  },
  {
   "cell_type": "code",
   "execution_count": 9,
   "id": "c63b0fc3",
   "metadata": {},
   "outputs": [
    {
     "data": {
      "image/png": "[encoded data removed]",
      "text/plain": [
       "<Figure size 432x288 with 1 Axes>"
      ]
     },
     "metadata": {
      "needs_background": "light"
     },
     "output_type": "display_data"
    },
    {
     "name": "stdout",
     "output_type": "stream",
     "text": [
      "Reported RMSE :  6.525267280338032\n"
     ]
    }
   ],
   "source": [
    "dataset = pd.read_csv(\"advertising.csv\")\n",
    "\n",
    "#Only using the column having radio advertising budget values to predict sales\n",
    "X = dataset.iloc[:,1].values \n",
    "y = dataset.iloc[:,3].values\n",
    "\n",
    "b,w = fit(X,y)\n",
    "plot_regression_line(X, y, w, b)\n",
    "\n",
    "predictions = predict(X,w,b)\n",
    "rmse(predictions, y)"
   ]
  }
 ],
 "metadata": {
  "kernelspec": {
   "display_name": "Python 3 (ipykernel)",
   "language": "python",
   "name": "python3"
  },
  "language_info": {
   "codemirror_mode": {
    "name": "ipython",
    "version": 3
   },
   "file_extension": ".py",
   "mimetype": "text/x-python",
   "name": "python",
   "nbconvert_exporter": "python",
   "pygments_lexer": "ipython3",
   "version": "3.8.10"
  }
 },
 "nbformat": 4,
 "nbformat_minor": 5
}
